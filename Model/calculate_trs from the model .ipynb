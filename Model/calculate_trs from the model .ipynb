{
 "cells": [
  {
   "cell_type": "code",
   "execution_count": null,
   "id": "e9961752",
   "metadata": {},
   "outputs": [],
   "source": [
    "# extract_trs.py\n",
    "# Purpose: compute TRS (mean probability across ensemble), build result table,\n",
    "# assign sample set (Train/Validation/Other), derive predicted labels and save results.\n",
    "# Note: this script assumes `models`, `scalers`, and feature matrix `X` (pandas DataFrame)\n",
    "# are already available in the current session.\n",
    "\n",
    "import os\n",
    "import numpy as np\n",
    "import pandas as pd\n",
    "\n",
    "# --- Path configuration ---\n",
    "BASE_DIR = r\"D:\\结直肠癌肝转移Biomarker 诊断\\新的策略\\Autoencoder\"\n",
    "OUTPUT_DIR = os.path.join(BASE_DIR, \"跨平台模型\", \"multi_omics_results\")\n",
    "os.makedirs(OUTPUT_DIR, exist_ok=True)\n",
    "\n",
    "# --- Read training / validation sample ID lists ---\n",
    "train_ids_file = os.path.join(BASE_DIR, \"final_model_results_updated\", \"train_sample_ids.txt\")\n",
    "val_ids_file = os.path.join(BASE_DIR, \"final_model_results_updated\", \"val_sample_ids.txt\")\n",
    "\n",
    "def read_id_list(path):\n",
    "    if not os.path.exists(path):\n",
    "        return []\n",
    "    with open(path, \"r\") as f:\n",
    "        return [line.strip() for line in f if line.strip()]\n",
    "\n",
    "train_ids = read_id_list(train_ids_file)\n",
    "val_ids = read_id_list(val_ids_file)"
   ]
  },
  {
   "cell_type": "code",
   "execution_count": null,
   "id": "53134249",
   "metadata": {},
   "outputs": [],
   "source": [
    "# --- Compute TRS scores (mean predicted probability across ensemble) ---\n",
    "# Require: models (list of keras models), scalers (list of sklearn scalers), X (DataFrame)\n",
    "if not ('models' in globals() and 'scalers' in globals() and 'X' in globals()):\n",
    "    raise RuntimeError(\"Please ensure `models`, `scalers`, and `X` (DataFrame) are defined before running this script.\")\n",
    "\n",
    "trs_predictions = []\n",
    "for model, scaler in zip(models, scalers):\n",
    "    # scale features with the scaler associated to this model\n",
    "    X_scaled = scaler.transform(X)\n",
    "    X_cnn = np.expand_dims(X_scaled, axis=-1)  # shape: (n_samples, n_features, 1)\n",
    "    pred = model.predict(X_cnn, verbose=0)\n",
    "    trs_predictions.append(pred.flatten())"
   ]
  },
  {
   "cell_type": "code",
   "execution_count": null,
   "id": "1ee47850",
   "metadata": {},
   "outputs": [],
   "source": [
    "# Mean ensemble probability (raw)\n",
    "trs_raw = np.mean(trs_predictions, axis=0)\n",
    "\n",
    "# --- Build TRS results DataFrame ---\n",
    "trs_df = pd.DataFrame({\n",
    "    \"Sample_ID\": X.index,\n",
    "    \"TRS\": trs_raw\n",
    "})\n",
    "trs_df[\"Set\"] = \"Other\"\n",
    "if len(train_ids) > 0:\n",
    "    trs_df.loc[trs_df[\"Sample_ID\"].isin(train_ids), \"Set\"] = \"Train\"\n",
    "if len(val_ids) > 0:\n",
    "    trs_df.loc[trs_df[\"Sample_ID\"].isin(val_ids), \"Set\"] = \"Validation\""
   ]
  },
  {
   "cell_type": "code",
   "execution_count": null,
   "id": "7009ac2e",
   "metadata": {},
   "outputs": [],
   "source": [
    "# --- Derive predicted labels and correctness ---\n",
    "# If true labels are available, try to add them. Common options:\n",
    "# - A vector `y_true` aligned with X.index\n",
    "# - A DataFrame column X['true_label'] or a separate `labels_df`\n",
    "# The script will use whichever is present; otherwise true-label columns are omitted.\n",
    "\n",
    "result = trs_df.copy()\n",
    "\n",
    "# Attach true labels if available in common variable names\n",
    "if 'y_true' in globals():\n",
    "    # assume y_true is aligned with X.index (pandas Series or array)\n",
    "    result['True_Label_int'] = pd.Series(y_true, index=X.index).values\n",
    "if 'labels_df' in globals() and 'True_Label_int' in labels_df.columns:\n",
    "    # merge by index if provided\n",
    "    merged = labels_df[['True_Label_int']].reindex(result['Sample_ID']).reset_index(drop=True)\n",
    "    result['True_Label_int'] = merged['True_Label_int'].values\n",
    "if 'True_Label_int' in result.columns:\n",
    "    # optional human-readable string label if not present\n",
    "    if 'True_Label_str' not in result.columns:\n",
    "        result['True_Label_str'] = result['True_Label_int'].map({0: \"Primary\", 1: \"Metastasis\"})"
   ]
  },
  {
   "cell_type": "code",
   "execution_count": null,
   "id": "1e7ac6ab",
   "metadata": {},
   "outputs": [],
   "source": [
    "# Interpret TRS as metastatic risk probability (higher = higher risk)\n",
    "result[\"TRS_Score\"] = result[\"TRS\"]\n",
    "result[\"Predicted_Probability\"] = result[\"TRS_Score\"]\n",
    "result[\"Predicted_Label_int\"] = (result[\"Predicted_Probability\"] >= 0.5).astype(int)\n",
    "result[\"Predicted_Label_str\"] = result[\"Predicted_Label_int\"].map({0: \"Primary\", 1: \"Metastasis\"})\n"
   ]
  },
  {
   "cell_type": "code",
   "execution_count": null,
   "id": "ffd30540",
   "metadata": {},
   "outputs": [],
   "source": [
    "# Classification correctness if true labels exist\n",
    "if 'True_Label_int' in result.columns:\n",
    "    result[\"Classification_Correct\"] = result[\"Predicted_Label_int\"] == result[\"True_Label_int\"]\n",
    "else:\n",
    "    result[\"Classification_Correct\"] = pd.NA\n",
    "\n",
    "# --- Select columns to save ---\n",
    "cols_to_keep = [\n",
    "    \"Sample_ID\",\n",
    "    # include true labels if present\n",
    "] \n",
    "if \"True_Label_str\" in result.columns:\n",
    "    cols_to_keep.append(\"True_Label_str\")\n",
    "if \"True_Label_int\" in result.columns:\n",
    "    cols_to_keep.append(\"True_Label_int\")\n"
   ]
  },
  {
   "cell_type": "code",
   "execution_count": null,
   "id": "a51f4812",
   "metadata": {},
   "outputs": [],
   "source": [
    "cols_to_keep += [\n",
    "    \"TRS_Score\",\n",
    "    \"Predicted_Probability\",\n",
    "    \"Predicted_Label_int\",\n",
    "    \"Predicted_Label_str\",\n",
    "    \"Classification_Correct\",\n",
    "    \"Set\"\n",
    "]\n",
    "\n",
    "final_table = result[cols_to_keep]\n",
    "\n",
    "# --- Save results ---\n",
    "output_path = os.path.join(OUTPUT_DIR, \"trs_prediction_results of training and internal validation set.csv\")\n",
    "final_table.to_csv(output_path, index=False)\n",
    "print(f\"Corrected TRS results saved to: {output_path}\")\n",
    "print(\"Note: TRS is interpreted such that higher scores indicate higher metastasis risk.\")"
   ]
  }
 ],
 "metadata": {
  "language_info": {
   "name": "python"
  }
 },
 "nbformat": 4,
 "nbformat_minor": 5
}
